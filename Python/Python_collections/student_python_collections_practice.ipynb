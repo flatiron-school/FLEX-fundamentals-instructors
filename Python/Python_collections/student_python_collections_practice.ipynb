{
 "cells": [
  {
   "cell_type": "markdown",
   "id": "6ce90980",
   "metadata": {},
   "source": [
    "# Python Collections Fundamentals\n",
    "\n",
    "## Life and Death in the Rick and Morty-verse\n",
    "\n",
    "<img src=\"rick_and_morty_characters.jpeg\" style=\"width:500px;\">\n",
    "\n",
    "Image thanks to [chris-rau-art](https://www.reddit.com/r/rickandmorty/comments/egj0mc/heres_a_poster_i_made_of_a_bunch_of_rick_and/)\n",
    "\n",
    "You have been arguing over the internet with an obvious troll who is comparing Rick and Morty to Game of Thrones.  They say that Rick and Morty kills off most of their named characters, especially the ones that fans have grown attached to over more episodes.\n",
    "\n",
    "You disagree and set out to use your python superpowers to prove them wrong.\n",
    "\n",
    "### In this notebook you will:\n",
    "\n",
    "1. Use Python packages to download information from the internet using an API\n",
    "2. Transform JSON responses into Python dictionaries\n",
    "3. Read JSONs.\n",
    "4. Loop over dictionaries and lists\n",
    "5. Produce counts and mean averages using counters and collection lengths"
   ]
  },
  {
   "cell_type": "markdown",
   "id": "9165e466",
   "metadata": {},
   "source": [
    "# 0. Import Packages\n",
    "\n",
    "import the packages `json` and `requests`. You'll need these to download data from the internet and transform json files into dictionaries."
   ]
  },
  {
   "cell_type": "code",
   "execution_count": null,
   "id": "56b37b2f",
   "metadata": {},
   "outputs": [],
   "source": [
    "import json\n",
    "import requests"
   ]
  },
  {
   "cell_type": "markdown",
   "id": "73b7b159",
   "metadata": {},
   "source": [
    "# 1. Download the data and create a dictionary of results"
   ]
  },
  {
   "cell_type": "markdown",
   "id": "208b23b2",
   "metadata": {},
   "source": [
    "Load the json of Rick and Morty characters accessible from the Rick and Morty API website using the link: https://rickandmortyapi.com/api/character and store the response in a variable named `response`.\n",
    "\n",
    "The text of the response is stored in the `response.text` attribute.\n",
    "\n",
    "Use the `json` package to store the text in a dictionary named 'rick_and_morty' and examine the dictionary."
   ]
  },
  {
   "cell_type": "code",
   "execution_count": null,
   "id": "ff2854e1",
   "metadata": {},
   "outputs": [],
   "source": []
  },
  {
   "cell_type": "markdown",
   "id": "28fc40aa",
   "metadata": {},
   "source": [
    "The API response contains two keys, `'info'` and `'results'`.  `rick_and_morty['info']` is also a dictionary with four keys, `'count'`, `'pages'`, `'next'`, `'prev'`.  Does the `'results':` list contain the number of characters described in '`info['count']`?  \n",
    "\n",
    "If not, check the documentation for the API at https://rickandmortyapi.com/documentation to determine how to get of all the characters.  Make new api calls in a loop that combine all of the character entries into one list of dictionaries named `all_characters`.\n",
    "\n",
    "Print the length of `all_characters` to make sure it matches `info['count']`"
   ]
  },
  {
   "cell_type": "code",
   "execution_count": null,
   "id": "ed9d72b6",
   "metadata": {},
   "outputs": [],
   "source": []
  },
  {
   "cell_type": "markdown",
   "id": "3299f09f",
   "metadata": {},
   "source": [
    "# 2. Split the results"
   ]
  },
  {
   "cell_type": "markdown",
   "id": "42dcc935",
   "metadata": {},
   "source": [
    "Great!  We now have a list of dictionaries with each dictionary containing information about one of the many named characters in Rick and Morty.\n",
    "\n",
    "Now let's do some do some analysis.  How many characters are alive and how many characters are dead?\n",
    "\n",
    "Let's split up our characters into 3 dictionaries, `living_characters`, `dead_characters`, `unknown_characters`.  These should be dictionaries of dictionaries.  The keys of the top level dictionary are the characters' names and the values should be the dictionaries of character information for the characters with that name.\n",
    "\n"
   ]
  },
  {
   "cell_type": "code",
   "execution_count": null,
   "id": "a656732b",
   "metadata": {},
   "outputs": [],
   "source": []
  },
  {
   "cell_type": "markdown",
   "id": "022f7a5e",
   "metadata": {},
   "source": [
    "How long are each of each dictionaries of characters?"
   ]
  },
  {
   "cell_type": "code",
   "execution_count": null,
   "id": "6264ae24",
   "metadata": {},
   "outputs": [],
   "source": []
  },
  {
   "cell_type": "markdown",
   "id": "aa4d4953",
   "metadata": {},
   "source": [
    "# 3. Find the Averages"
   ]
  },
  {
   "cell_type": "markdown",
   "id": "75528bde",
   "metadata": {},
   "source": [
    "Finally, let's figure out the average number of episodes that each status of characters, living, dead, and unknown appear in."
   ]
  },
  {
   "cell_type": "code",
   "execution_count": null,
   "id": "21e8928a",
   "metadata": {},
   "outputs": [],
   "source": []
  },
  {
   "cell_type": "markdown",
   "id": "d54791e9",
   "metadata": {},
   "source": [
    "# Conclusion:\n",
    "\n",
    "### Who was right, you or the troll?\n",
    "\n",
    "Congratulations!\n",
    "\n",
    "In this notebook you:\n",
    "\n",
    "* Used an API to download a JSON from the internet\n",
    "* Used a loop to concatentate lists from multiple API requests\n",
    "* Queried a dictionary using keys to return values\n",
    "* Looped over a list of dictionaries to create new dictionaries\n",
    "* Used conditional statements to divide data based on dictionary lookup queries\n",
    "* Used counters in to return statistics.\n",
    "\n",
    "# [Exit Ticket](https://docs.google.com/forms/d/e/1FAIpQLSf5bvMHHjsZs3KWi_8c8W4G0ZhYpID0sDCm0zpYV6R4OR_ueg/viewform?usp=sf_link)"
   ]
  },
  {
   "cell_type": "code",
   "execution_count": null,
   "id": "a8ba72d4",
   "metadata": {},
   "outputs": [],
   "source": []
  }
 ],
 "metadata": {
  "kernelspec": {
   "display_name": "learn-env",
   "language": "python",
   "name": "learn-env"
  },
  "language_info": {
   "codemirror_mode": {
    "name": "ipython",
    "version": 3
   },
   "file_extension": ".py",
   "mimetype": "text/x-python",
   "name": "python",
   "nbconvert_exporter": "python",
   "pygments_lexer": "ipython3",
   "version": "3.8.5"
  }
 },
 "nbformat": 4,
 "nbformat_minor": 5
}
