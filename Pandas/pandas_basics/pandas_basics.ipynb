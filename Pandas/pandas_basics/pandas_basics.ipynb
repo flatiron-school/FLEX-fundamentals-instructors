{
 "cells": [
  {
   "cell_type": "markdown",
   "id": "64553ce2",
   "metadata": {},
   "source": [
    "![ice cream flavors](images/difference-flavors-of-ice-cream.jpeg)\n",
    "\n",
    "# Let's prepare a dataframe of ice cream reviews in Pandas.\n",
    "\n",
    "\n",
    "\n",
    "We would like to do some analytics on ice cream flavors in order to inform retailers about which flavors might be best to stock and ice cream manufacturers interested in how their flavors are being received.\n",
    "\n",
    "Pandas offers tools to load, view, and process data.  Today we will be practicing:\n",
    "\n",
    "1. Loading data from disk into working memory in the form of a dataframe\n",
    "2. Viewing data in the dataframe\n",
    "3. Exploring the number of rows and columns, column names and data types, and any missing data\n",
    "4. How to remove columns and rows with missing data.\n",
    "5. How to join two dataframes together.\n",
    "\n",
    "For this notebook you will be guiding your instructor through the steps of loading and exploring a dataset in Pandas.  \n",
    "\n",
    "As necessary, please use Google to find out how to complete each step."
   ]
  },
  {
   "cell_type": "markdown",
   "id": "10d5af06",
   "metadata": {},
   "source": [
    "# Load Modules\n",
    "\n",
    "First, we have to import the Pandas module.  We will give it the alias 'pd'"
   ]
  },
  {
   "cell_type": "code",
   "execution_count": null,
   "id": "f04fd3cd",
   "metadata": {},
   "outputs": [],
   "source": []
  },
  {
   "cell_type": "markdown",
   "id": "c513a70c",
   "metadata": {},
   "source": [
    "# Load Data"
   ]
  },
  {
   "cell_type": "markdown",
   "id": "9b6b2236",
   "metadata": {},
   "source": [
    "There are 2 datasets in this repo.  One is called 'products.csv' and contains descriptions and ratings of several ice cream flavors.  The second is called 'reviews.csv' which contains thousands of reviews of the flavors from 'products.csv'.  Load both into separate dataframes named 'products' and 'reviews'.  \n",
    "\n",
    "These data were downloaded from [Kaggle: Ice Cream Dataset](https://www.kaggle.com/tysonpo/ice-cream-dataset)"
   ]
  },
  {
   "cell_type": "code",
   "execution_count": null,
   "id": "377beaaf",
   "metadata": {},
   "outputs": [],
   "source": []
  },
  {
   "cell_type": "markdown",
   "id": "596e47f5",
   "metadata": {},
   "source": [
    "# Examine Data"
   ]
  },
  {
   "cell_type": "markdown",
   "id": "b7c99eb5",
   "metadata": {},
   "source": [
    "Great!  Now let's take a look at these datasets.  \n",
    "\n",
    "For **EACH** dataset, display: \n",
    "\n",
    "1. the first 5 rows, \n",
    "2. the last 5 rows, and \n",
    "3. 5 random rows."
   ]
  },
  {
   "cell_type": "code",
   "execution_count": null,
   "id": "21d476ea",
   "metadata": {},
   "outputs": [],
   "source": []
  },
  {
   "cell_type": "code",
   "execution_count": null,
   "id": "a89642bf",
   "metadata": {},
   "outputs": [],
   "source": []
  },
  {
   "cell_type": "code",
   "execution_count": null,
   "id": "9645e16f",
   "metadata": {},
   "outputs": [],
   "source": []
  },
  {
   "cell_type": "code",
   "execution_count": null,
   "id": "d2ea5774",
   "metadata": {},
   "outputs": [],
   "source": []
  },
  {
   "cell_type": "code",
   "execution_count": null,
   "id": "2a7d6bfe",
   "metadata": {},
   "outputs": [],
   "source": []
  },
  {
   "cell_type": "code",
   "execution_count": null,
   "id": "ee1f28f0",
   "metadata": {},
   "outputs": [],
   "source": []
  },
  {
   "cell_type": "markdown",
   "id": "dfa91635",
   "metadata": {},
   "source": [
    "create a new view (a window into a dataframe where a dataframe is not copied) into the products dataframe.  Show only the names of the ice cream flavors and the average rating of each flavor.  Display the first SEVEN rows."
   ]
  },
  {
   "cell_type": "code",
   "execution_count": null,
   "id": "1246c2a6",
   "metadata": {},
   "outputs": [],
   "source": []
  },
  {
   "cell_type": "markdown",
   "id": "8e0d5545",
   "metadata": {},
   "source": [
    "# Explore Data"
   ]
  },
  {
   "cell_type": "markdown",
   "id": "1f5d20fd",
   "metadata": {},
   "source": [
    "Now print the shape of each dataframe, the number of rows and columns it contains"
   ]
  },
  {
   "cell_type": "code",
   "execution_count": null,
   "id": "68dfdfea",
   "metadata": {},
   "outputs": [],
   "source": []
  },
  {
   "cell_type": "markdown",
   "id": "626a3332",
   "metadata": {},
   "source": [
    "Next, use 1 method for each dataframe to examine the names of the columns, data types, and number of non-null values."
   ]
  },
  {
   "cell_type": "code",
   "execution_count": null,
   "id": "eba5caee",
   "metadata": {},
   "outputs": [],
   "source": []
  },
  {
   "cell_type": "code",
   "execution_count": null,
   "id": "ef12d6c0",
   "metadata": {},
   "outputs": [],
   "source": []
  },
  {
   "cell_type": "markdown",
   "id": "da394990",
   "metadata": {},
   "source": [
    "Do either dataframe have missing values?  If so, print the number of missing values in each column.  This will require chaining 2 methods."
   ]
  },
  {
   "cell_type": "code",
   "execution_count": null,
   "id": "dbbd5189",
   "metadata": {},
   "outputs": [],
   "source": []
  },
  {
   "cell_type": "markdown",
   "id": "340018bc",
   "metadata": {},
   "source": [
    "# Remove Null Values"
   ]
  },
  {
   "cell_type": "markdown",
   "id": "bf89126c",
   "metadata": {},
   "source": [
    "If a column from one of the datasets was missing any data, we need to deal with that.  Our machine learning algorithms might throw an error if our datasets are missing data.\n",
    "\n",
    "For each column with missing data:\n",
    "1. if the column is missing >= 10% of the data, drop the **COLUMN**.\n",
    "2. if the column is missing < 10% of the data, drop the **ROWS** that are missing data."
   ]
  },
  {
   "cell_type": "code",
   "execution_count": null,
   "id": "f7cbc883",
   "metadata": {},
   "outputs": [],
   "source": []
  },
  {
   "cell_type": "markdown",
   "id": "f1ec591e",
   "metadata": {},
   "source": [
    "Verify that your dataset no longer contains missing values"
   ]
  },
  {
   "cell_type": "code",
   "execution_count": null,
   "id": "b389ab41",
   "metadata": {},
   "outputs": [],
   "source": []
  },
  {
   "cell_type": "markdown",
   "id": "2dd1e83d",
   "metadata": {},
   "source": [
    "# Final Challenge: Join the Tables!\n",
    "\n",
    "Both tables have a column labeled 'key'.  This column connects these tables by assigning each flavor a unique key and adding it to the reviews table so the keys for the flavors in 'products' matches the keys for flavor that each review describes.\n",
    "\n",
    "Our last step will be to join the two tables so that the information from each flavor in the 'product' table is combined with each review in the 'reviews' table.\n",
    "\n",
    "Name the resulting table 'icecream'"
   ]
  },
  {
   "cell_type": "code",
   "execution_count": null,
   "id": "15fc801e",
   "metadata": {},
   "outputs": [],
   "source": []
  },
  {
   "cell_type": "markdown",
   "id": "27198e05",
   "metadata": {},
   "source": [
    "Verify that 'icecream' now contains data from both 'reviews' and 'products' by displaying a random sample of 3 rows.  \n",
    "\n",
    "Also, verify that 'icecream' has the same number of rows as 'reviews' and a number of columns equal to the sum of the number of columns from 'reviews' and 'products' minus 1.  (Why minus one?)"
   ]
  },
  {
   "cell_type": "code",
   "execution_count": null,
   "id": "d27d73c9",
   "metadata": {},
   "outputs": [],
   "source": []
  },
  {
   "cell_type": "code",
   "execution_count": null,
   "id": "05a2a284",
   "metadata": {},
   "outputs": [],
   "source": []
  },
  {
   "cell_type": "markdown",
   "id": "78f86d02",
   "metadata": {},
   "source": [
    "# Congratulations!\n",
    "\n",
    "You have:\n",
    "1. loaded two tables into dataframes\n",
    "2. viewed the beginning, end, and random samples of the tables\n",
    "3. examined the shape, feature names, and data types in the tables\n",
    "4. detected and removed missing values in two different ways\n",
    "5. joined the two tables into one using a key\n",
    "\n",
    "# Please take moment to complete the survey below\n",
    "\n",
    "# [Exit Ticket](https://docs.google.com/forms/d/e/1FAIpQLScVX-8y_vNLjaxFry_wWacl2a8NhvznAQvNkmiuXmxQ6b_wKg/viewform?usp=sf_link)"
   ]
  },
  {
   "cell_type": "code",
   "execution_count": null,
   "id": "c82333a0",
   "metadata": {},
   "outputs": [],
   "source": []
  }
 ],
 "metadata": {
  "kernelspec": {
   "display_name": "learn-env",
   "language": "python",
   "name": "learn-env"
  },
  "language_info": {
   "codemirror_mode": {
    "name": "ipython",
    "version": 3
   },
   "file_extension": ".py",
   "mimetype": "text/x-python",
   "name": "python",
   "nbconvert_exporter": "python",
   "pygments_lexer": "ipython3",
   "version": "3.8.5"
  }
 },
 "nbformat": 4,
 "nbformat_minor": 5
}
